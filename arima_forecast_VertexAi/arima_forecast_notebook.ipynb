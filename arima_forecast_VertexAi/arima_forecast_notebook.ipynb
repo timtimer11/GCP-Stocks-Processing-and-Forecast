{
 "cells": [
  {
   "cell_type": "code",
   "execution_count": 1,
   "id": "de7bf9d7-a0d4-4de5-8f73-9ae3c9f5ebd6",
   "metadata": {
    "tags": []
   },
   "outputs": [
    {
     "data": {
      "application/vnd.jupyter.widget-view+json": {
       "model_id": "1527b9d3fb9a40118ce6894c58bb4d71",
       "version_major": 2,
       "version_minor": 0
      },
      "text/plain": [
       "Query is running:   0%|          |"
      ]
     },
     "metadata": {},
     "output_type": "display_data"
    },
    {
     "data": {
      "application/vnd.jupyter.widget-view+json": {
       "model_id": "5e59332412084d6a916dd5de3e510b8d",
       "version_major": 2,
       "version_minor": 0
      },
      "text/plain": [
       "Downloading:   0%|          |"
      ]
     },
     "metadata": {},
     "output_type": "display_data"
    }
   ],
   "source": [
    "%%bigquery df\n",
    "SELECT *\n",
    "FROM `stockswhatsup.stocks_data_historical.stocks_data_all`"
   ]
  },
  {
   "cell_type": "code",
   "execution_count": 2,
   "id": "adb3a8c1-f69a-4a4f-b883-44f5956abc6a",
   "metadata": {
    "tags": []
   },
   "outputs": [
    {
     "name": "stdout",
     "output_type": "stream",
     "text": [
      "Collecting pmdarima\n",
      "  Using cached pmdarima-2.0.4-cp310-cp310-manylinux_2_17_x86_64.manylinux2014_x86_64.manylinux_2_28_x86_64.whl.metadata (7.8 kB)\n",
      "Requirement already satisfied: joblib>=0.11 in /opt/conda/lib/python3.10/site-packages (from pmdarima) (1.3.2)\n",
      "Requirement already satisfied: Cython!=0.29.18,!=0.29.31,>=0.29 in /opt/conda/lib/python3.10/site-packages (from pmdarima) (3.0.6)\n",
      "Requirement already satisfied: numpy>=1.21.2 in /opt/conda/lib/python3.10/site-packages (from pmdarima) (1.25.2)\n",
      "Requirement already satisfied: pandas>=0.19 in /opt/conda/lib/python3.10/site-packages (from pmdarima) (2.0.3)\n",
      "Requirement already satisfied: scikit-learn>=0.22 in /opt/conda/lib/python3.10/site-packages (from pmdarima) (1.3.2)\n",
      "Requirement already satisfied: scipy>=1.3.2 in /opt/conda/lib/python3.10/site-packages (from pmdarima) (1.11.4)\n",
      "Requirement already satisfied: statsmodels>=0.13.2 in /opt/conda/lib/python3.10/site-packages (from pmdarima) (0.14.0)\n",
      "Requirement already satisfied: urllib3 in /opt/conda/lib/python3.10/site-packages (from pmdarima) (1.26.18)\n",
      "Requirement already satisfied: setuptools!=50.0.0,>=38.6.0 in /opt/conda/lib/python3.10/site-packages (from pmdarima) (68.2.2)\n",
      "Requirement already satisfied: packaging>=17.1 in /opt/conda/lib/python3.10/site-packages (from pmdarima) (23.2)\n",
      "Requirement already satisfied: python-dateutil>=2.8.2 in /opt/conda/lib/python3.10/site-packages (from pandas>=0.19->pmdarima) (2.8.2)\n",
      "Requirement already satisfied: pytz>=2020.1 in /opt/conda/lib/python3.10/site-packages (from pandas>=0.19->pmdarima) (2023.3.post1)\n",
      "Requirement already satisfied: tzdata>=2022.1 in /opt/conda/lib/python3.10/site-packages (from pandas>=0.19->pmdarima) (2023.3)\n",
      "Requirement already satisfied: threadpoolctl>=2.0.0 in /opt/conda/lib/python3.10/site-packages (from scikit-learn>=0.22->pmdarima) (3.2.0)\n",
      "Requirement already satisfied: patsy>=0.5.2 in /opt/conda/lib/python3.10/site-packages (from statsmodels>=0.13.2->pmdarima) (0.5.4)\n",
      "Requirement already satisfied: six in /opt/conda/lib/python3.10/site-packages (from patsy>=0.5.2->statsmodels>=0.13.2->pmdarima) (1.16.0)\n",
      "Using cached pmdarima-2.0.4-cp310-cp310-manylinux_2_17_x86_64.manylinux2014_x86_64.manylinux_2_28_x86_64.whl (2.1 MB)\n",
      "Installing collected packages: pmdarima\n",
      "Successfully installed pmdarima-2.0.4\n"
     ]
    }
   ],
   "source": [
    "!pip install pmdarima"
   ]
  },
  {
   "cell_type": "code",
   "execution_count": 3,
   "id": "bbf06434-e6aa-4092-8737-7fea64b9ead0",
   "metadata": {
    "tags": []
   },
   "outputs": [
    {
     "name": "stdout",
     "output_type": "stream",
     "text": [
      "Performing stepwise search to minimize aic\n",
      " ARIMA(0,1,0)(0,0,0)[0] intercept   : AIC=3435.524, Time=0.06 sec\n",
      " ARIMA(1,1,0)(0,0,0)[0] intercept   : AIC=3396.254, Time=0.10 sec\n",
      " ARIMA(0,1,1)(0,0,0)[0] intercept   : AIC=3396.382, Time=0.08 sec\n",
      " ARIMA(0,1,0)(0,0,0)[0]             : AIC=3446.954, Time=0.03 sec\n",
      " ARIMA(2,1,0)(0,0,0)[0] intercept   : AIC=3397.901, Time=0.09 sec\n",
      " ARIMA(1,1,1)(0,0,0)[0] intercept   : AIC=3397.801, Time=0.13 sec\n",
      " ARIMA(2,1,1)(0,0,0)[0] intercept   : AIC=3399.561, Time=0.31 sec\n",
      " ARIMA(1,1,0)(0,0,0)[0]             : AIC=3402.313, Time=0.04 sec\n",
      "\n",
      "Best model:  ARIMA(1,1,0)(0,0,0)[0] intercept\n",
      "Total fit time: 0.859 seconds\n",
      "Performing stepwise search to minimize aic\n"
     ]
    },
    {
     "name": "stderr",
     "output_type": "stream",
     "text": [
      "/opt/conda/lib/python3.10/site-packages/statsmodels/tsa/base/tsa_model.py:473: ValueWarning: No frequency information was provided, so inferred frequency D will be used.\n",
      "  self._init_dates(dates, freq)\n",
      "/opt/conda/lib/python3.10/site-packages/statsmodels/tsa/base/tsa_model.py:473: ValueWarning: No frequency information was provided, so inferred frequency D will be used.\n",
      "  self._init_dates(dates, freq)\n",
      "/opt/conda/lib/python3.10/site-packages/statsmodels/tsa/base/tsa_model.py:473: ValueWarning: No frequency information was provided, so inferred frequency D will be used.\n",
      "  self._init_dates(dates, freq)\n",
      "/opt/conda/lib/python3.10/site-packages/statsmodels/tsa/statespace/representation.py:374: FutureWarning: Unknown keyword arguments: dict_keys(['alpha']).Passing unknown keyword arguments will raise a TypeError beginning in version 0.15.\n",
      "  warnings.warn(msg, FutureWarning)\n"
     ]
    },
    {
     "name": "stdout",
     "output_type": "stream",
     "text": [
      " ARIMA(0,1,0)(0,0,0)[0] intercept   : AIC=2742.062, Time=0.06 sec\n",
      " ARIMA(1,1,0)(0,0,0)[0] intercept   : AIC=2721.440, Time=0.10 sec\n",
      " ARIMA(0,1,1)(0,0,0)[0] intercept   : AIC=2721.633, Time=0.09 sec\n",
      " ARIMA(0,1,0)(0,0,0)[0]             : AIC=2740.065, Time=0.03 sec\n",
      " ARIMA(2,1,0)(0,0,0)[0] intercept   : AIC=2723.383, Time=0.11 sec\n",
      " ARIMA(1,1,1)(0,0,0)[0] intercept   : AIC=2723.370, Time=0.16 sec\n",
      " ARIMA(2,1,1)(0,0,0)[0] intercept   : AIC=2725.167, Time=0.35 sec\n",
      " ARIMA(1,1,0)(0,0,0)[0]             : AIC=2719.443, Time=0.04 sec\n",
      " ARIMA(2,1,0)(0,0,0)[0]             : AIC=2721.385, Time=0.18 sec\n",
      " ARIMA(1,1,1)(0,0,0)[0]             : AIC=2721.372, Time=0.07 sec\n",
      " ARIMA(0,1,1)(0,0,0)[0]             : AIC=2719.636, Time=0.04 sec\n",
      " ARIMA(2,1,1)(0,0,0)[0]             : AIC=2723.169, Time=0.18 sec\n",
      "\n",
      "Best model:  ARIMA(1,1,0)(0,0,0)[0]          \n",
      "Total fit time: 1.445 seconds\n",
      "Performing stepwise search to minimize aic\n",
      " ARIMA(0,1,0)(0,0,0)[0] intercept   : AIC=2906.180, Time=0.06 sec\n"
     ]
    },
    {
     "name": "stderr",
     "output_type": "stream",
     "text": [
      "/opt/conda/lib/python3.10/site-packages/statsmodels/tsa/base/tsa_model.py:473: ValueWarning: No frequency information was provided, so inferred frequency D will be used.\n",
      "  self._init_dates(dates, freq)\n",
      "/opt/conda/lib/python3.10/site-packages/statsmodels/tsa/base/tsa_model.py:473: ValueWarning: No frequency information was provided, so inferred frequency D will be used.\n",
      "  self._init_dates(dates, freq)\n",
      "/opt/conda/lib/python3.10/site-packages/statsmodels/tsa/base/tsa_model.py:473: ValueWarning: No frequency information was provided, so inferred frequency D will be used.\n",
      "  self._init_dates(dates, freq)\n",
      "/opt/conda/lib/python3.10/site-packages/statsmodels/tsa/statespace/representation.py:374: FutureWarning: Unknown keyword arguments: dict_keys(['alpha']).Passing unknown keyword arguments will raise a TypeError beginning in version 0.15.\n",
      "  warnings.warn(msg, FutureWarning)\n"
     ]
    },
    {
     "name": "stdout",
     "output_type": "stream",
     "text": [
      " ARIMA(1,1,0)(0,0,0)[0] intercept   : AIC=2886.354, Time=0.10 sec\n",
      " ARIMA(0,1,1)(0,0,0)[0] intercept   : AIC=2888.151, Time=0.08 sec\n",
      " ARIMA(0,1,0)(0,0,0)[0]             : AIC=2904.692, Time=0.02 sec\n",
      " ARIMA(2,1,0)(0,0,0)[0] intercept   : AIC=2887.742, Time=0.09 sec\n",
      " ARIMA(1,1,1)(0,0,0)[0] intercept   : AIC=2887.766, Time=0.15 sec\n",
      " ARIMA(2,1,1)(0,0,0)[0] intercept   : AIC=2889.742, Time=0.14 sec\n",
      " ARIMA(1,1,0)(0,0,0)[0]             : AIC=2884.705, Time=0.04 sec\n",
      " ARIMA(2,1,0)(0,0,0)[0]             : AIC=2886.070, Time=0.05 sec\n",
      " ARIMA(1,1,1)(0,0,0)[0]             : AIC=2886.092, Time=0.07 sec\n",
      " ARIMA(0,1,1)(0,0,0)[0]             : AIC=2886.537, Time=0.04 sec\n",
      " ARIMA(2,1,1)(0,0,0)[0]             : AIC=2888.070, Time=0.07 sec\n",
      "\n",
      "Best model:  ARIMA(1,1,0)(0,0,0)[0]          \n",
      "Total fit time: 0.929 seconds\n"
     ]
    },
    {
     "name": "stderr",
     "output_type": "stream",
     "text": [
      "/opt/conda/lib/python3.10/site-packages/statsmodels/tsa/base/tsa_model.py:473: ValueWarning: No frequency information was provided, so inferred frequency D will be used.\n",
      "  self._init_dates(dates, freq)\n",
      "/opt/conda/lib/python3.10/site-packages/statsmodels/tsa/base/tsa_model.py:473: ValueWarning: No frequency information was provided, so inferred frequency D will be used.\n",
      "  self._init_dates(dates, freq)\n",
      "/opt/conda/lib/python3.10/site-packages/statsmodels/tsa/base/tsa_model.py:473: ValueWarning: No frequency information was provided, so inferred frequency D will be used.\n",
      "  self._init_dates(dates, freq)\n",
      "/opt/conda/lib/python3.10/site-packages/statsmodels/tsa/statespace/representation.py:374: FutureWarning: Unknown keyword arguments: dict_keys(['alpha']).Passing unknown keyword arguments will raise a TypeError beginning in version 0.15.\n",
      "  warnings.warn(msg, FutureWarning)\n"
     ]
    },
    {
     "name": "stdout",
     "output_type": "stream",
     "text": [
      "Performing stepwise search to minimize aic\n",
      " ARIMA(0,1,0)(0,0,0)[0] intercept   : AIC=2532.497, Time=0.06 sec\n",
      " ARIMA(1,1,0)(0,0,0)[0] intercept   : AIC=2505.533, Time=0.10 sec\n",
      " ARIMA(0,1,1)(0,0,0)[0] intercept   : AIC=2505.598, Time=0.10 sec\n",
      " ARIMA(0,1,0)(0,0,0)[0]             : AIC=2530.524, Time=0.03 sec\n",
      " ARIMA(2,1,0)(0,0,0)[0] intercept   : AIC=2507.147, Time=0.09 sec\n",
      " ARIMA(1,1,1)(0,0,0)[0] intercept   : AIC=2507.192, Time=0.17 sec\n",
      " ARIMA(2,1,1)(0,0,0)[0] intercept   : AIC=2507.223, Time=0.46 sec\n",
      " ARIMA(1,1,0)(0,0,0)[0]             : AIC=2503.548, Time=0.03 sec\n",
      " ARIMA(2,1,0)(0,0,0)[0]             : AIC=2505.163, Time=0.04 sec\n",
      " ARIMA(1,1,1)(0,0,0)[0]             : AIC=2505.208, Time=0.07 sec\n",
      " ARIMA(0,1,1)(0,0,0)[0]             : AIC=2503.616, Time=0.04 sec\n",
      " ARIMA(2,1,1)(0,0,0)[0]             : AIC=2505.256, Time=0.15 sec\n",
      "\n",
      "Best model:  ARIMA(1,1,0)(0,0,0)[0]          \n",
      "Total fit time: 1.369 seconds\n",
      "Performing stepwise search to minimize aic\n",
      " ARIMA(0,0,0)(0,0,0)[0]             : AIC=9547.755, Time=0.04 sec\n"
     ]
    },
    {
     "name": "stderr",
     "output_type": "stream",
     "text": [
      "/opt/conda/lib/python3.10/site-packages/statsmodels/tsa/base/tsa_model.py:473: ValueWarning: No frequency information was provided, so inferred frequency D will be used.\n",
      "  self._init_dates(dates, freq)\n",
      "/opt/conda/lib/python3.10/site-packages/statsmodels/tsa/base/tsa_model.py:473: ValueWarning: No frequency information was provided, so inferred frequency D will be used.\n",
      "  self._init_dates(dates, freq)\n",
      "/opt/conda/lib/python3.10/site-packages/statsmodels/tsa/base/tsa_model.py:473: ValueWarning: No frequency information was provided, so inferred frequency D will be used.\n",
      "  self._init_dates(dates, freq)\n",
      "/opt/conda/lib/python3.10/site-packages/statsmodels/tsa/statespace/representation.py:374: FutureWarning: Unknown keyword arguments: dict_keys(['alpha']).Passing unknown keyword arguments will raise a TypeError beginning in version 0.15.\n",
      "  warnings.warn(msg, FutureWarning)\n"
     ]
    },
    {
     "name": "stdout",
     "output_type": "stream",
     "text": [
      " ARIMA(1,0,0)(0,0,0)[0]             : AIC=inf, Time=0.12 sec\n",
      " ARIMA(0,0,1)(0,0,0)[0]             : AIC=inf, Time=0.11 sec\n",
      " ARIMA(1,0,1)(0,0,0)[0]             : AIC=4478.683, Time=0.12 sec\n",
      " ARIMA(2,0,1)(0,0,0)[0]             : AIC=4478.379, Time=0.17 sec\n",
      " ARIMA(2,0,0)(0,0,0)[0]             : AIC=inf, Time=0.12 sec\n",
      " ARIMA(3,0,1)(0,0,0)[0]             : AIC=4480.014, Time=0.85 sec\n",
      " ARIMA(2,0,2)(0,0,0)[0]             : AIC=4479.402, Time=0.78 sec\n",
      " ARIMA(1,0,2)(0,0,0)[0]             : AIC=4478.784, Time=0.16 sec\n",
      " ARIMA(3,0,0)(0,0,0)[0]             : AIC=inf, Time=0.18 sec\n",
      " ARIMA(3,0,2)(0,0,0)[0]             : AIC=4482.218, Time=0.21 sec\n",
      " ARIMA(2,0,1)(0,0,0)[0] intercept   : AIC=4476.948, Time=0.41 sec\n",
      " ARIMA(1,0,1)(0,0,0)[0] intercept   : AIC=4477.373, Time=0.25 sec\n",
      " ARIMA(2,0,0)(0,0,0)[0] intercept   : AIC=inf, Time=0.26 sec\n",
      " ARIMA(3,0,1)(0,0,0)[0] intercept   : AIC=4478.555, Time=1.44 sec\n",
      " ARIMA(2,0,2)(0,0,0)[0] intercept   : AIC=4477.747, Time=2.15 sec\n",
      " ARIMA(1,0,0)(0,0,0)[0] intercept   : AIC=inf, Time=0.24 sec\n",
      " ARIMA(1,0,2)(0,0,0)[0] intercept   : AIC=4477.394, Time=1.16 sec\n",
      " ARIMA(3,0,0)(0,0,0)[0] intercept   : AIC=inf, Time=1.00 sec\n",
      " ARIMA(3,0,2)(0,0,0)[0] intercept   : AIC=4479.940, Time=2.39 sec\n",
      "\n",
      "Best model:  ARIMA(2,0,1)(0,0,0)[0] intercept\n",
      "Total fit time: 12.182 seconds\n"
     ]
    },
    {
     "name": "stderr",
     "output_type": "stream",
     "text": [
      "/opt/conda/lib/python3.10/site-packages/statsmodels/tsa/base/tsa_model.py:473: ValueWarning: No frequency information was provided, so inferred frequency D will be used.\n",
      "  self._init_dates(dates, freq)\n",
      "/opt/conda/lib/python3.10/site-packages/statsmodels/tsa/base/tsa_model.py:473: ValueWarning: No frequency information was provided, so inferred frequency D will be used.\n",
      "  self._init_dates(dates, freq)\n",
      "/opt/conda/lib/python3.10/site-packages/statsmodels/tsa/base/tsa_model.py:473: ValueWarning: No frequency information was provided, so inferred frequency D will be used.\n",
      "  self._init_dates(dates, freq)\n",
      "/opt/conda/lib/python3.10/site-packages/statsmodels/tsa/statespace/representation.py:374: FutureWarning: Unknown keyword arguments: dict_keys(['alpha']).Passing unknown keyword arguments will raise a TypeError beginning in version 0.15.\n",
      "  warnings.warn(msg, FutureWarning)\n"
     ]
    },
    {
     "name": "stdout",
     "output_type": "stream",
     "text": [
      "Success: Uploaded Forecasted data to BigQuery\n"
     ]
    }
   ],
   "source": [
    "import pandas as pd\n",
    "from sklearn.linear_model import LinearRegression\n",
    "import numpy as np\n",
    "from statsmodels.tsa.stattools import adfuller\n",
    "from statsmodels.tsa.arima.model import ARIMA\n",
    "from sklearn.linear_model import LinearRegression\n",
    "from pmdarima.arima import auto_arima\n",
    "from pylab import rcParams\n",
    "from google.cloud import bigquery\n",
    "\n",
    "def process_stock_data(stock_df, stock_name):\n",
    "    start_date = stock_df.date.min()\n",
    "    end_date = stock_df.date.max()\n",
    "\n",
    "    complete_date_range = pd.date_range(start=start_date, end=end_date, freq='D')\n",
    "    complete_date_df = pd.DataFrame({f'{stock_name}_complete_date': complete_date_range})\n",
    "\n",
    "    complete_date_df[f'{stock_name}_complete_date'] = pd.to_datetime(complete_date_df[f'{stock_name}_complete_date'])\n",
    "    stock_df['date'] = pd.to_datetime(stock_df['date'])\n",
    "    complete_date_df = complete_date_df.reset_index(drop=True)\n",
    "    stock_df = stock_df.reset_index(drop=True)\n",
    "    continuous_df = pd.merge(complete_date_df, stock_df, how='left', left_on=f'{stock_name}_complete_date', right_on='date')\n",
    "\n",
    "    continuous_df.set_index(f'{stock_name}_complete_date', inplace=True)\n",
    "    continuous_df.index = pd.DatetimeIndex(continuous_df.index).to_period('D')\n",
    "\n",
    "    continuous_df = continuous_df[['volume_weighted_avg_price']].interpolate(method='time')\n",
    "\n",
    "    # Convert the DatetimeIndex to Timestamp\n",
    "    continuous_df.index = continuous_df.index.to_timestamp()\n",
    "\n",
    "    # ADF Test\n",
    "    adft_result = adfuller(continuous_df['volume_weighted_avg_price'], autolag='AIC')\n",
    "\n",
    "    if adft_result[1] < 0.05:\n",
    "        continuous_df = np.log(continuous_df)\n",
    "\n",
    "    train_data, test_data = continuous_df[:int(len(continuous_df) * 0.9)], continuous_df[int(len(continuous_df) * 0.9):]\n",
    "\n",
    "    return train_data, test_data\n",
    "\n",
    "def build_arima_model(train_data):\n",
    "    model_autoARIMA = auto_arima(train_data, start_p=0, start_q=0,\n",
    "                                test='adf', max_p=3, max_q=3, m=1,\n",
    "                                d=None, seasonal=False, start_P=0,\n",
    "                                D=0, trace=True, error_action='ignore',\n",
    "                                suppress_warnings=True, stepwise=True)\n",
    "\n",
    "    model = ARIMA(train_data, order=model_autoARIMA.order)\n",
    "    fitted = model.fit()\n",
    "\n",
    "    return fitted.forecast(638, alpha=0.05)\n",
    "\n",
    "def build_forecast_df(stock_fc, stock_name):\n",
    "    fc_df = pd.DataFrame(stock_fc)\n",
    "    fc_df['stock_symbol'] = stock_name.upper()\n",
    "    fc_df.reset_index(inplace=True) \n",
    "    return fc_df\n",
    "\n",
    "stocks = ['META', 'AAPL', 'AMZN', 'GOOGL', 'NFLX']\n",
    "\n",
    "forecasted_dfs = []\n",
    "\n",
    "for stock in stocks:\n",
    "    stock_df = df[df['stock_symbol'] == stock.upper()][['volume_weighted_avg_price', 'date']]\n",
    "    train_data, test_data = process_stock_data(stock_df, stock)\n",
    "    stock_fc = build_arima_model(train_data)\n",
    "    stock_fc_df = build_forecast_df(stock_fc, stock)\n",
    "    forecasted_dfs.append(stock_fc_df)\n",
    "\n",
    "forecasted_df_combined = pd.concat(forecasted_dfs, ignore_index=True)\n",
    "\n",
    "client = bigquery.Client()\n",
    "\n",
    "forecast_table_id = \"stockswhatsup.stocks_data_historical.stocks_forecast\"\n",
    "forecasted_df_combined.rename(columns={'index':'date'}, inplace=True)\n",
    "\n",
    "forecast_table_config = bigquery.LoadJobConfig(\n",
    "      schema=[\n",
    "          bigquery.SchemaField(\"date\", bigquery.enums.SqlTypeNames.DATE),\n",
    "          bigquery.SchemaField(\"predicted_mean\", bigquery.enums.SqlTypeNames.FLOAT),\n",
    "          bigquery.SchemaField(\"stock_symbol\", bigquery.enums.SqlTypeNames.STRING),\n",
    "      ],\n",
    "      write_disposition=bigquery.WriteDisposition.WRITE_TRUNCATE,\n",
    "  )\n",
    "\n",
    "try:\n",
    "    forecast_table_job = client.load_table_from_dataframe(\n",
    "        forecasted_df_combined, forecast_table_id, job_config=forecast_table_config\n",
    "    )\n",
    "    print('Success: Uploaded Forecasted data to BigQuery')\n",
    "except Exception as e:\n",
    "    print(f'Failure: {e}')"
   ]
  }
 ],
 "metadata": {
  "kernelspec": {
   "display_name": "Python (Local)",
   "language": "python",
   "name": "base"
  },
  "language_info": {
   "codemirror_mode": {
    "name": "ipython",
    "version": 3
   },
   "file_extension": ".py",
   "mimetype": "text/x-python",
   "name": "python",
   "nbconvert_exporter": "python",
   "pygments_lexer": "ipython3",
   "version": "3.10.13"
  }
 },
 "nbformat": 4,
 "nbformat_minor": 5
}
